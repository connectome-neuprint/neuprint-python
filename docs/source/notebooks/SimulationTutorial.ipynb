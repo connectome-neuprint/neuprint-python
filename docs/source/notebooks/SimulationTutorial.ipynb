{
 "cells": [
  {
   "cell_type": "markdown",
   "metadata": {},
   "source": [
    "# Simulation Tutorial"
   ]
  },
  {
   "cell_type": "markdown",
   "metadata": {},
   "source": [
    "This notebook shows how to estimate the delay and amplitude response between primary brain regions for a given neuron.  In general, the delay within a compartment tends to be isopotential meaning a region to region response matrix is a reasonable characterization of the output response of a neuron.\n",
    "\n",
    "The electrical simulation uses a simple linear passive model using a network of resistors and capacitors based on a skeleton representation of the neuron.  Users can specify specific membrane resistance and capacitance values and cytoplasm resitance."
   ]
  },
  {
   "cell_type": "markdown",
   "metadata": {},
   "source": [
    "<div class=\"alert alert-info\">\n",
    "\n",
    "**Note:** You must install some additional dependencies before using simulation functions:\n",
    "\n",
    "```\n",
    "conda install -c conda-forge ngspice umap-learn scikit-learn matplotlib\n",
    "```\n",
    "    \n",
    "</div>"
   ]
  },
  {
   "cell_type": "markdown",
   "metadata": {},
   "source": [
    "## Setup neuron model\n",
    "\n",
    "* create neuprint client using the public hemibrain dataset\n",
    "* build a neuron spice model for a given body id"
   ]
  },
  {
   "cell_type": "code",
   "execution_count": 1,
   "metadata": {},
   "outputs": [],
   "source": [
    "from neuprint import Client\n",
    "\n",
    "TOKEN = \"\" # <--- Paste your token here\n",
    "           # (or define NEUPRINT_APPLICATION CREDENTIALS in your environment)\n",
    "\n",
    "client = Client(\"neuprint.janelia.org\", \"hemibrain:v1.0.1\", TOKEN)"
   ]
  },
  {
   "cell_type": "code",
   "execution_count": 2,
   "metadata": {},
   "outputs": [
    {
     "data": {
      "application/vnd.jupyter.widget-view+json": {
       "model_id": "595621b6a3b44f9fbfb0580648b69912",
       "version_major": 2,
       "version_minor": 0
      },
      "text/plain": [
       "HBox(children=(FloatProgress(value=0.0), HTML(value='')))"
      ]
     },
     "metadata": {},
     "output_type": "display_data"
    },
    {
     "name": "stdout",
     "output_type": "stream",
     "text": [
      "\n"
     ]
    }
   ],
   "source": [
    "# simulate a PEG neuron (same type as in hemibrain paper)\n",
    "from neuprint import NeuronModel\n",
    "nm = NeuronModel(449438847)"
   ]
  },
  {
   "cell_type": "markdown",
   "metadata": {},
   "source": [
    "## Estimate neuron timing"
   ]
  },
  {
   "cell_type": "markdown",
   "metadata": {},
   "source": [
    "### Run simulation for the given neuron\n",
    "\n",
    "Specify the number of inputs per brain region (randomly selected) which will be tested.  A current is injected at each input site one at a time and delay and amplitude response is measured."
   ]
  },
  {
   "cell_type": "code",
   "execution_count": 3,
   "metadata": {},
   "outputs": [
    {
     "data": {
      "application/vnd.jupyter.widget-view+json": {
       "model_id": "84f23d763d6f46d98aafbde1e2e5cc5c",
       "version_major": 2,
       "version_minor": 0
      },
      "text/plain": [
       "HBox(children=(FloatProgress(value=0.0, max=12.0), HTML(value='')))"
      ]
     },
     "metadata": {},
     "output_type": "display_data"
    },
    {
     "name": "stdout",
     "output_type": "stream",
     "text": [
      "\n"
     ]
    }
   ],
   "source": [
    "res = nm.simulate(2)"
   ]
  },
  {
   "cell_type": "markdown",
   "metadata": {},
   "source": [
    "### Examine the response results\n",
    "\n",
    "compute_region_delay_matrix reports the delay between regions where the row index is the input brain region and the column names represent the output region.  A delay (ms) and amplitude (mV) are returned.  They are averages over all the response for a given region input-output pair.\n",
    "\n",
    "Note: the results to synapses that are not in brain regions (\"none\") are shown for completeness.  But those output responses are not necessarily co-located and cannot be treated as an ROI."
   ]
  },
  {
   "cell_type": "code",
   "execution_count": 4,
   "metadata": {},
   "outputs": [],
   "source": [
    "delay, amp = res.compute_region_delay_matrix()"
   ]
  },
  {
   "cell_type": "code",
   "execution_count": 5,
   "metadata": {},
   "outputs": [
    {
     "data": {
      "text/html": [
       "<div>\n",
       "<style scoped>\n",
       "    .dataframe tbody tr th:only-of-type {\n",
       "        vertical-align: middle;\n",
       "    }\n",
       "\n",
       "    .dataframe tbody tr th {\n",
       "        vertical-align: top;\n",
       "    }\n",
       "\n",
       "    .dataframe thead th {\n",
       "        text-align: right;\n",
       "    }\n",
       "</style>\n",
       "<table border=\"1\" class=\"dataframe\">\n",
       "  <thead>\n",
       "    <tr style=\"text-align: right;\">\n",
       "      <th></th>\n",
       "      <th>EB</th>\n",
       "      <th>LAL(R)</th>\n",
       "      <th>PB</th>\n",
       "      <th>none</th>\n",
       "    </tr>\n",
       "  </thead>\n",
       "  <tbody>\n",
       "    <tr>\n",
       "      <th>CRE(R)</th>\n",
       "      <td>2.074233</td>\n",
       "      <td>0.427321</td>\n",
       "      <td>3.208169</td>\n",
       "      <td>2.539196</td>\n",
       "    </tr>\n",
       "    <tr>\n",
       "      <th>EB</th>\n",
       "      <td>1.258467</td>\n",
       "      <td>2.456816</td>\n",
       "      <td>3.166434</td>\n",
       "      <td>2.483917</td>\n",
       "    </tr>\n",
       "    <tr>\n",
       "      <th>FB</th>\n",
       "      <td>1.657618</td>\n",
       "      <td>2.120017</td>\n",
       "      <td>1.880404</td>\n",
       "      <td>1.058834</td>\n",
       "    </tr>\n",
       "    <tr>\n",
       "      <th>LAL(R)</th>\n",
       "      <td>2.356702</td>\n",
       "      <td>0.329966</td>\n",
       "      <td>3.474082</td>\n",
       "      <td>2.809558</td>\n",
       "    </tr>\n",
       "    <tr>\n",
       "      <th>PB</th>\n",
       "      <td>3.143595</td>\n",
       "      <td>3.550282</td>\n",
       "      <td>0.437841</td>\n",
       "      <td>0.713781</td>\n",
       "    </tr>\n",
       "    <tr>\n",
       "      <th>none</th>\n",
       "      <td>2.590528</td>\n",
       "      <td>3.010865</td>\n",
       "      <td>0.676969</td>\n",
       "      <td>0.154951</td>\n",
       "    </tr>\n",
       "  </tbody>\n",
       "</table>\n",
       "</div>"
      ],
      "text/plain": [
       "              EB    LAL(R)        PB      none\n",
       "CRE(R)  2.074233  0.427321  3.208169  2.539196\n",
       "EB      1.258467  2.456816  3.166434  2.483917\n",
       "FB      1.657618  2.120017  1.880404  1.058834\n",
       "LAL(R)  2.356702  0.329966  3.474082  2.809558\n",
       "PB      3.143595  3.550282  0.437841  0.713781\n",
       "none    2.590528  3.010865  0.676969  0.154951"
      ]
     },
     "execution_count": 5,
     "metadata": {},
     "output_type": "execute_result"
    }
   ],
   "source": [
    "# delay matrix in ms\n",
    "delay"
   ]
  },
  {
   "cell_type": "code",
   "execution_count": 6,
   "metadata": {},
   "outputs": [
    {
     "data": {
      "text/html": [
       "<div>\n",
       "<style scoped>\n",
       "    .dataframe tbody tr th:only-of-type {\n",
       "        vertical-align: middle;\n",
       "    }\n",
       "\n",
       "    .dataframe tbody tr th {\n",
       "        vertical-align: top;\n",
       "    }\n",
       "\n",
       "    .dataframe thead th {\n",
       "        text-align: right;\n",
       "    }\n",
       "</style>\n",
       "<table border=\"1\" class=\"dataframe\">\n",
       "  <thead>\n",
       "    <tr style=\"text-align: right;\">\n",
       "      <th></th>\n",
       "      <th>EB</th>\n",
       "      <th>LAL(R)</th>\n",
       "      <th>PB</th>\n",
       "      <th>none</th>\n",
       "    </tr>\n",
       "  </thead>\n",
       "  <tbody>\n",
       "    <tr>\n",
       "      <th>CRE(R)</th>\n",
       "      <td>0.153407</td>\n",
       "      <td>0.489385</td>\n",
       "      <td>0.122230</td>\n",
       "      <td>0.134334</td>\n",
       "    </tr>\n",
       "    <tr>\n",
       "      <th>EB</th>\n",
       "      <td>0.181624</td>\n",
       "      <td>0.143877</td>\n",
       "      <td>0.121702</td>\n",
       "      <td>0.134000</td>\n",
       "    </tr>\n",
       "    <tr>\n",
       "      <th>FB</th>\n",
       "      <td>0.160437</td>\n",
       "      <td>0.149854</td>\n",
       "      <td>0.149690</td>\n",
       "      <td>0.167537</td>\n",
       "    </tr>\n",
       "    <tr>\n",
       "      <th>LAL(R)</th>\n",
       "      <td>0.146963</td>\n",
       "      <td>0.749892</td>\n",
       "      <td>0.117411</td>\n",
       "      <td>0.128987</td>\n",
       "    </tr>\n",
       "    <tr>\n",
       "      <th>PB</th>\n",
       "      <td>0.123022</td>\n",
       "      <td>0.116236</td>\n",
       "      <td>0.416325</td>\n",
       "      <td>0.261497</td>\n",
       "    </tr>\n",
       "    <tr>\n",
       "      <th>none</th>\n",
       "      <td>0.134309</td>\n",
       "      <td>0.126698</td>\n",
       "      <td>0.283109</td>\n",
       "      <td>0.311731</td>\n",
       "    </tr>\n",
       "  </tbody>\n",
       "</table>\n",
       "</div>"
      ],
      "text/plain": [
       "              EB    LAL(R)        PB      none\n",
       "CRE(R)  0.153407  0.489385  0.122230  0.134334\n",
       "EB      0.181624  0.143877  0.121702  0.134000\n",
       "FB      0.160437  0.149854  0.149690  0.167537\n",
       "LAL(R)  0.146963  0.749892  0.117411  0.128987\n",
       "PB      0.123022  0.116236  0.416325  0.261497\n",
       "none    0.134309  0.126698  0.283109  0.311731"
      ]
     },
     "execution_count": 6,
     "metadata": {},
     "output_type": "execute_result"
    }
   ],
   "source": [
    "# amplitude in mV\n",
    "amp"
   ]
  },
  {
   "cell_type": "markdown",
   "metadata": {},
   "source": [
    "### Plot response from one brain region to others\n",
    "\n",
    "Each dot represents the response from each input from the specified input region (LAL(R) here) to every output in the neuron (each output brain region is indicated)."
   ]
  },
  {
   "cell_type": "code",
   "execution_count": 7,
   "metadata": {},
   "outputs": [
    {
     "data": {
      "image/png": "[encoded data removed]",
      "text/plain": [
       "<Figure size 576x576 with 1 Axes>"
      ]
     },
     "execution_count": 7,
     "metadata": {},
     "output_type": "execute_result"
    }
   ],
   "source": [
    "res.plot_response_from_region(\"LAL(R)\")"
   ]
  },
  {
   "cell_type": "markdown",
   "metadata": {},
   "source": [
    "## Decompose neuron connections by electrical domain\n",
    "\n",
    "Use simple linear passive delay progragation through the neuron to determine distinct domains for representing the neuron.  The decomposition can be used to derive ROIs using electrical delay."
   ]
  },
  {
   "cell_type": "markdown",
   "metadata": {},
   "source": [
    "### Simulate the delay 'distances' between parts of the neuron\n",
    "\n",
    "This function checks propagation delays throughout the neuron based on the number of specified points.  The points are randomly chosen even between inputs and outputs.  In principle, any points could be chosen."
   ]
  },
  {
   "cell_type": "code",
   "execution_count": 8,
   "metadata": {},
   "outputs": [
    {
     "data": {
      "application/vnd.jupyter.widget-view+json": {
       "model_id": "630e3bd540ff487e913027795620d440",
       "version_major": 2,
       "version_minor": 0
      },
      "text/plain": [
       "HBox(children=(FloatProgress(value=0.0), HTML(value='')))"
      ]
     },
     "metadata": {},
     "output_type": "display_data"
    },
    {
     "name": "stdout",
     "output_type": "stream",
     "text": [
      "\n"
     ]
    }
   ],
   "source": [
    "res = nm.estimate_intra_neuron_delay(num_points=100)"
   ]
  },
  {
   "cell_type": "markdown",
   "metadata": {},
   "source": [
    "### Show delay propogation closeness between simulated points\n",
    "\n",
    "This plot should show whether there are distinct electrical domains for the neuron.  The primary ROI labels are provided to show how well the points correspond to the annotated regions."
   ]
  },
  {
   "cell_type": "code",
   "execution_count": 9,
   "metadata": {},
   "outputs": [
    {
     "data": {
      "image/png": "[encoded data removed]",
      "text/plain": [
       "<Figure size 576x576 with 1 Axes>"
      ]
     },
     "execution_count": 9,
     "metadata": {},
     "output_type": "execute_result"
    }
   ],
   "source": [
    "res.plot_neuron_domains()"
   ]
  },
  {
   "cell_type": "markdown",
   "metadata": {},
   "source": [
    "### Partition the neuron into different domains based on simulated points\n",
    "\n",
    "Cluster the simulated points and map a partition id to each synapse in the neuron.  The function returns input and output connections broken down by these domain ids. "
   ]
  },
  {
   "cell_type": "code",
   "execution_count": 10,
   "metadata": {},
   "outputs": [],
   "source": [
    "summary, detailed_io, plot = res.estimate_neuron_domains(3, plot=True)"
   ]
  },
  {
   "cell_type": "code",
   "execution_count": 11,
   "metadata": {},
   "outputs": [
    {
     "data": {
      "text/html": [
       "<div>\n",
       "<style scoped>\n",
       "    .dataframe tbody tr th:only-of-type {\n",
       "        vertical-align: middle;\n",
       "    }\n",
       "\n",
       "    .dataframe tbody tr th {\n",
       "        vertical-align: top;\n",
       "    }\n",
       "\n",
       "    .dataframe thead th {\n",
       "        text-align: right;\n",
       "    }\n",
       "</style>\n",
       "<table border=\"1\" class=\"dataframe\">\n",
       "  <thead>\n",
       "    <tr style=\"text-align: right;\">\n",
       "      <th></th>\n",
       "      <th>io</th>\n",
       "      <th>partner</th>\n",
       "      <th>weight</th>\n",
       "      <th>domain_id</th>\n",
       "      <th>rois</th>\n",
       "    </tr>\n",
       "  </thead>\n",
       "  <tbody>\n",
       "    <tr>\n",
       "      <th>0</th>\n",
       "      <td>output</td>\n",
       "      <td>696682163</td>\n",
       "      <td>147</td>\n",
       "      <td>0</td>\n",
       "      <td>[EB]</td>\n",
       "    </tr>\n",
       "    <tr>\n",
       "      <th>1</th>\n",
       "      <td>output</td>\n",
       "      <td>974300015</td>\n",
       "      <td>97</td>\n",
       "      <td>1</td>\n",
       "      <td>[PB, none]</td>\n",
       "    </tr>\n",
       "    <tr>\n",
       "      <th>2</th>\n",
       "      <td>output</td>\n",
       "      <td>858587718</td>\n",
       "      <td>88</td>\n",
       "      <td>0</td>\n",
       "      <td>[EB]</td>\n",
       "    </tr>\n",
       "    <tr>\n",
       "      <th>3</th>\n",
       "      <td>output</td>\n",
       "      <td>858587718</td>\n",
       "      <td>72</td>\n",
       "      <td>2</td>\n",
       "      <td>[LAL(R)]</td>\n",
       "    </tr>\n",
       "    <tr>\n",
       "      <th>4</th>\n",
       "      <td>output</td>\n",
       "      <td>1228692168</td>\n",
       "      <td>66</td>\n",
       "      <td>0</td>\n",
       "      <td>[EB]</td>\n",
       "    </tr>\n",
       "    <tr>\n",
       "      <th>...</th>\n",
       "      <td>...</td>\n",
       "      <td>...</td>\n",
       "      <td>...</td>\n",
       "      <td>...</td>\n",
       "      <td>...</td>\n",
       "    </tr>\n",
       "    <tr>\n",
       "      <th>720</th>\n",
       "      <td>input</td>\n",
       "      <td>5813057963</td>\n",
       "      <td>1</td>\n",
       "      <td>0</td>\n",
       "      <td>[EB]</td>\n",
       "    </tr>\n",
       "    <tr>\n",
       "      <th>721</th>\n",
       "      <td>input</td>\n",
       "      <td>5813062805</td>\n",
       "      <td>1</td>\n",
       "      <td>0</td>\n",
       "      <td>[CRE(R)]</td>\n",
       "    </tr>\n",
       "    <tr>\n",
       "      <th>722</th>\n",
       "      <td>input</td>\n",
       "      <td>5813061383</td>\n",
       "      <td>1</td>\n",
       "      <td>1</td>\n",
       "      <td>[PB]</td>\n",
       "    </tr>\n",
       "    <tr>\n",
       "      <th>723</th>\n",
       "      <td>input</td>\n",
       "      <td>5813070465</td>\n",
       "      <td>1</td>\n",
       "      <td>0</td>\n",
       "      <td>[EB]</td>\n",
       "    </tr>\n",
       "    <tr>\n",
       "      <th>724</th>\n",
       "      <td>input</td>\n",
       "      <td>5813080269</td>\n",
       "      <td>1</td>\n",
       "      <td>0</td>\n",
       "      <td>[EB]</td>\n",
       "    </tr>\n",
       "  </tbody>\n",
       "</table>\n",
       "<p>725 rows × 5 columns</p>\n",
       "</div>"
      ],
      "text/plain": [
       "         io     partner  weight  domain_id        rois\n",
       "0    output   696682163     147          0        [EB]\n",
       "1    output   974300015      97          1  [PB, none]\n",
       "2    output   858587718      88          0        [EB]\n",
       "3    output   858587718      72          2    [LAL(R)]\n",
       "4    output  1228692168      66          0        [EB]\n",
       "..      ...         ...     ...        ...         ...\n",
       "720   input  5813057963       1          0        [EB]\n",
       "721   input  5813062805       1          0    [CRE(R)]\n",
       "722   input  5813061383       1          1        [PB]\n",
       "723   input  5813070465       1          0        [EB]\n",
       "724   input  5813080269       1          0        [EB]\n",
       "\n",
       "[725 rows x 5 columns]"
      ]
     },
     "execution_count": 11,
     "metadata": {},
     "output_type": "execute_result"
    }
   ],
   "source": [
    "# input / output table broken down by domain id from partitioning\n",
    "summary"
   ]
  },
  {
   "cell_type": "code",
   "execution_count": 12,
   "metadata": {},
   "outputs": [
    {
     "data": {
      "text/html": [
       "<div>\n",
       "<style scoped>\n",
       "    .dataframe tbody tr th:only-of-type {\n",
       "        vertical-align: middle;\n",
       "    }\n",
       "\n",
       "    .dataframe tbody tr th {\n",
       "        vertical-align: top;\n",
       "    }\n",
       "\n",
       "    .dataframe thead th {\n",
       "        text-align: right;\n",
       "    }\n",
       "</style>\n",
       "<table border=\"1\" class=\"dataframe\">\n",
       "  <thead>\n",
       "    <tr style=\"text-align: right;\">\n",
       "      <th></th>\n",
       "      <th>type</th>\n",
       "      <th>x</th>\n",
       "      <th>y</th>\n",
       "      <th>z</th>\n",
       "      <th>roi</th>\n",
       "      <th>partner</th>\n",
       "      <th>domain_id</th>\n",
       "    </tr>\n",
       "  </thead>\n",
       "  <tbody>\n",
       "    <tr>\n",
       "      <th>0</th>\n",
       "      <td>post</td>\n",
       "      <td>21510</td>\n",
       "      <td>26069</td>\n",
       "      <td>20648</td>\n",
       "      <td>EB</td>\n",
       "      <td>387364605</td>\n",
       "      <td>0</td>\n",
       "    </tr>\n",
       "    <tr>\n",
       "      <th>1</th>\n",
       "      <td>post</td>\n",
       "      <td>23679</td>\n",
       "      <td>24857</td>\n",
       "      <td>20538</td>\n",
       "      <td>EB</td>\n",
       "      <td>387364605</td>\n",
       "      <td>0</td>\n",
       "    </tr>\n",
       "    <tr>\n",
       "      <th>2</th>\n",
       "      <td>post</td>\n",
       "      <td>22135</td>\n",
       "      <td>26177</td>\n",
       "      <td>20494</td>\n",
       "      <td>EB</td>\n",
       "      <td>387364605</td>\n",
       "      <td>0</td>\n",
       "    </tr>\n",
       "    <tr>\n",
       "      <th>3</th>\n",
       "      <td>post</td>\n",
       "      <td>21613</td>\n",
       "      <td>25974</td>\n",
       "      <td>20679</td>\n",
       "      <td>EB</td>\n",
       "      <td>387364605</td>\n",
       "      <td>0</td>\n",
       "    </tr>\n",
       "    <tr>\n",
       "      <th>4</th>\n",
       "      <td>post</td>\n",
       "      <td>23870</td>\n",
       "      <td>23196</td>\n",
       "      <td>20455</td>\n",
       "      <td>EB</td>\n",
       "      <td>387364605</td>\n",
       "      <td>0</td>\n",
       "    </tr>\n",
       "    <tr>\n",
       "      <th>...</th>\n",
       "      <td>...</td>\n",
       "      <td>...</td>\n",
       "      <td>...</td>\n",
       "      <td>...</td>\n",
       "      <td>...</td>\n",
       "      <td>...</td>\n",
       "      <td>...</td>\n",
       "    </tr>\n",
       "    <tr>\n",
       "      <th>7092</th>\n",
       "      <td>pre</td>\n",
       "      <td>23030</td>\n",
       "      <td>24895</td>\n",
       "      <td>20167</td>\n",
       "      <td>EB</td>\n",
       "      <td>1002507131</td>\n",
       "      <td>0</td>\n",
       "    </tr>\n",
       "    <tr>\n",
       "      <th>7093</th>\n",
       "      <td>pre</td>\n",
       "      <td>23621</td>\n",
       "      <td>24908</td>\n",
       "      <td>20429</td>\n",
       "      <td>EB</td>\n",
       "      <td>1002507131</td>\n",
       "      <td>0</td>\n",
       "    </tr>\n",
       "    <tr>\n",
       "      <th>7094</th>\n",
       "      <td>pre</td>\n",
       "      <td>22615</td>\n",
       "      <td>24507</td>\n",
       "      <td>19708</td>\n",
       "      <td>EB</td>\n",
       "      <td>1002507131</td>\n",
       "      <td>0</td>\n",
       "    </tr>\n",
       "    <tr>\n",
       "      <th>7095</th>\n",
       "      <td>pre</td>\n",
       "      <td>22992</td>\n",
       "      <td>24888</td>\n",
       "      <td>20123</td>\n",
       "      <td>EB</td>\n",
       "      <td>1002507131</td>\n",
       "      <td>0</td>\n",
       "    </tr>\n",
       "    <tr>\n",
       "      <th>7096</th>\n",
       "      <td>pre</td>\n",
       "      <td>23278</td>\n",
       "      <td>24606</td>\n",
       "      <td>20178</td>\n",
       "      <td>EB</td>\n",
       "      <td>1002507131</td>\n",
       "      <td>0</td>\n",
       "    </tr>\n",
       "  </tbody>\n",
       "</table>\n",
       "<p>7097 rows × 7 columns</p>\n",
       "</div>"
      ],
      "text/plain": [
       "      type      x      y      z roi     partner  domain_id\n",
       "0     post  21510  26069  20648  EB   387364605          0\n",
       "1     post  23679  24857  20538  EB   387364605          0\n",
       "2     post  22135  26177  20494  EB   387364605          0\n",
       "3     post  21613  25974  20679  EB   387364605          0\n",
       "4     post  23870  23196  20455  EB   387364605          0\n",
       "...    ...    ...    ...    ...  ..         ...        ...\n",
       "7092   pre  23030  24895  20167  EB  1002507131          0\n",
       "7093   pre  23621  24908  20429  EB  1002507131          0\n",
       "7094   pre  22615  24507  19708  EB  1002507131          0\n",
       "7095   pre  22992  24888  20123  EB  1002507131          0\n",
       "7096   pre  23278  24606  20178  EB  1002507131          0\n",
       "\n",
       "[7097 rows x 7 columns]"
      ]
     },
     "execution_count": 12,
     "metadata": {},
     "output_type": "execute_result"
    }
   ],
   "source": [
    "# domain id for each x,y,z location\n",
    "detailed_io"
   ]
  },
  {
   "cell_type": "code",
   "execution_count": 13,
   "metadata": {},
   "outputs": [
    {
     "data": {
      "image/png": "[encoded data removed]",
      "text/plain": [
       "<Figure size 576x576 with 1 Axes>"
      ]
     },
     "execution_count": 13,
     "metadata": {},
     "output_type": "execute_result"
    }
   ],
   "source": [
    "plot"
   ]
  }
 ],
 "metadata": {
  "kernelspec": {
   "display_name": "Python 3",
   "language": "python",
   "name": "python3"
  },
  "language_info": {
   "codemirror_mode": {
    "name": "ipython",
    "version": 3
   },
   "file_extension": ".py",
   "mimetype": "text/x-python",
   "name": "python",
   "nbconvert_exporter": "python",
   "pygments_lexer": "ipython3",
   "version": "3.7.6"
  },
  "nbsphinx": {
   "execute": "auto"
  }
 },
 "nbformat": 4,
 "nbformat_minor": 4
}
